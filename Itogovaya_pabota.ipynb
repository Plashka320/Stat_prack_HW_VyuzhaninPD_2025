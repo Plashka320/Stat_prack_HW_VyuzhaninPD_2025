{
  "nbformat": 4,
  "nbformat_minor": 0,
  "metadata": {
    "colab": {
      "provenance": [],
      "authorship_tag": "ABX9TyM5Ru98/uISEEtbC1kAWFyt",
      "include_colab_link": true
    },
    "kernelspec": {
      "name": "python3",
      "display_name": "Python 3"
    },
    "language_info": {
      "name": "python"
    }
  },
  "cells": [
    {
      "cell_type": "markdown",
      "metadata": {
        "id": "view-in-github",
        "colab_type": "text"
      },
      "source": [
        "<a href=\"https://colab.research.google.com/github/Plashka320/Stat_prack_HW_VyuzhaninPD_2025/blob/main/Itogovaya_pabota.ipynb\" target=\"_parent\"><img src=\"https://colab.research.google.com/assets/colab-badge.svg\" alt=\"Open In Colab\"/></a>"
      ]
    },
    {
      "cell_type": "markdown",
      "source": [
        "\n",
        "\n",
        "\n",
        "#Датасет: New York City Airbnb Open Data (аренда жилья в Нью-Йорке )\n",
        "[Сам датасет](https://www.kaggle.com/datasets/dgomonov/new-york-city-airbnb-open-data?select=New_York_City_.png)\n",
        "\n",
        "###Цели:\n",
        "\n",
        "\n",
        "*   Определение факторов, влияющих на стоимость аренды (например, местоположение, тип жилья, доступность удобств)\n",
        "*    Исследование распределения предложений аренды по районам Нью-Йорка.\n",
        "*    Выявление наиболее востребованных типов жилья или районов среди арендаторов.\n",
        "*   Подготовка данных для создания модели прогнозирования цен на аренду.(Как будет вести себя цены в зависимости от района, цены, площади и тд)\n",
        "\n",
        "В идеале я хочу сделать модель которая по заданным параметрам будет мне выдавать \"справедливую цену\" на жилье. Например так же как это сделоно на Циан. там есть \"Оценка циан\" она показывает насколько выше или нирже рынка прожавец уцстановил цену.\n",
        "\n",
        "###Основные сложности:\n",
        "\n",
        "*\n",
        "\n"
      ],
      "metadata": {
        "id": "vMFWRDAY4054"
      }
    },
    {
      "cell_type": "code",
      "execution_count": 4,
      "metadata": {
        "colab": {
          "base_uri": "https://localhost:8080/"
        },
        "id": "Vlk_6QVb4q9h",
        "outputId": "e7be152a-169d-480b-92ff-a9da10beb6b4"
      },
      "outputs": [
        {
          "output_type": "stream",
          "name": "stdout",
          "text": [
            "     id                                              name  host_id  \\\n",
            "0  2539                Clean & quiet apt home by the park     2787   \n",
            "1  2595                             Skylit Midtown Castle     2845   \n",
            "2  3647               THE VILLAGE OF HARLEM....NEW YORK !     4632   \n",
            "3  3831                   Cozy Entire Floor of Brownstone     4869   \n",
            "4  5022  Entire Apt: Spacious Studio/Loft by central park     7192   \n",
            "\n",
            "     host_name neighbourhood_group neighbourhood  latitude  longitude  \\\n",
            "0         John            Brooklyn    Kensington  40.64749  -73.97237   \n",
            "1     Jennifer           Manhattan       Midtown  40.75362  -73.98377   \n",
            "2    Elisabeth           Manhattan        Harlem  40.80902  -73.94190   \n",
            "3  LisaRoxanne            Brooklyn  Clinton Hill  40.68514  -73.95976   \n",
            "4        Laura           Manhattan   East Harlem  40.79851  -73.94399   \n",
            "\n",
            "         room_type  price  minimum_nights  number_of_reviews last_review  \\\n",
            "0     Private room    149               1                  9  2018-10-19   \n",
            "1  Entire home/apt    225               1                 45  2019-05-21   \n",
            "2     Private room    150               3                  0         NaN   \n",
            "3  Entire home/apt     89               1                270  2019-07-05   \n",
            "4  Entire home/apt     80              10                  9  2018-11-19   \n",
            "\n",
            "   reviews_per_month  calculated_host_listings_count  availability_365  \n",
            "0               0.21                               6               365  \n",
            "1               0.38                               2               355  \n",
            "2                NaN                               1               365  \n",
            "3               4.64                               1               194  \n",
            "4               0.10                               1                 0  \n"
          ]
        }
      ],
      "source": [
        "import pandas as pd\n",
        "\n",
        "data = pd.read_csv(\"/content/AB_NYC_2019.csv\")\n",
        "\n",
        "print(data.head())"
      ]
    },
    {
      "cell_type": "code",
      "source": [],
      "metadata": {
        "id": "ySUlZBZ2-4ya"
      },
      "execution_count": null,
      "outputs": []
    }
  ]
}