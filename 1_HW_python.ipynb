{
  "cells": [
    {
      "cell_type": "markdown",
      "metadata": {
        "id": "view-in-github",
        "colab_type": "text"
      },
      "source": [
        "<a href=\"https://colab.research.google.com/github/Plashka320/Stat_prack_HW_VyuzhaninPD_2025/blob/main/1_HW_python.ipynb\" target=\"_parent\"><img src=\"https://colab.research.google.com/assets/colab-badge.svg\" alt=\"Open In Colab\"/></a>"
      ]
    },
    {
      "cell_type": "markdown",
      "source": [
        "<a href=\"https://colab.research.google.com/drive/1Nx_klyuwQfMlq_v3woczmeeI3ZKiSdvY?usp=sharing\" target=\"_parent\"><img src=\"https://colab.research.google.com/assets/colab-badge.svg\" alt=\"Open In Colab\"/></a>"
      ],
      "metadata": {
        "id": "BPnoMGlR4rUB"
      }
    },
    {
      "cell_type": "markdown",
      "metadata": {
        "id": "xw8BD8v2oBGj"
      },
      "source": [
        "# Homework"
      ]
    },
    {
      "cell_type": "markdown",
      "metadata": {
        "id": "sSos7q2_oBGj"
      },
      "source": [
        "## Problem 1"
      ]
    },
    {
      "cell_type": "markdown",
      "metadata": {
        "id": "NiX8ePp0oBGk"
      },
      "source": [
        "Make a tuple containing natural numbers, the square of which is a multiple of 3, 4, but not a multiple of 8 and not exceeding 12345."
      ]
    },
    {
      "cell_type": "code",
      "execution_count": 6,
      "metadata": {
        "id": "XmPHEnS9oBGk",
        "colab": {
          "base_uri": "https://localhost:8080/"
        },
        "outputId": "f637b103-8dc6-49a5-d747-d60952f5e7fd"
      },
      "outputs": [
        {
          "output_type": "execute_result",
          "data": {
            "text/plain": [
              "(6, 18, 30, 42, 54, 66, 78, 90, 102)"
            ]
          },
          "metadata": {},
          "execution_count": 6
        }
      ],
      "source": [
        "# Your solution here\n",
        "tuple(x for x in range(0, int(12345**0.5)) if x**2%3 == 0 and x**2%4 == 0 and x**2%8 != 0 )"
      ]
    },
    {
      "cell_type": "markdown",
      "metadata": {
        "id": "OZBeUyxcoBGk"
      },
      "source": [
        "## Problem 2"
      ]
    },
    {
      "cell_type": "markdown",
      "metadata": {
        "id": "zIfvg22noBGk"
      },
      "source": [
        "\n",
        "Write a function that takes a two-dimensional array and a string as input and returns an array rotated 90 degrees counterclockwise if the string 'left' was passed, and clockwise if the string 'right' was passed.\n",
        "\n",
        "Example for input: $\\begin{bmatrix} 1 & 2 & 3 \\\\ 4 & 5 & 6 \\\\ 7 & 8 & 9 \\end{bmatrix}$.\\\n",
        "If the string 'left' is passed, the function should return $\\begin{bmatrix} 3 & 6 & 9 \\\\ 2 & 5 & 8 \\\\ 1 & 4 & 7 \\end{bmatrix}$, and if the string 'right' is passed, the function should return $\\begin{bmatrix} 7 & 4 & 1 \\\\ 8 & 5 & 2 \\\\ 9 & 6 & 3 \\end{bmatrix}$."
      ]
    },
    {
      "cell_type": "code",
      "execution_count": 7,
      "metadata": {
        "id": "HNvy_cRjoBGk",
        "colab": {
          "base_uri": "https://localhost:8080/"
        },
        "outputId": "d50a31d3-3e71-4df2-a0b6-f9f3cc542204"
      },
      "outputs": [
        {
          "output_type": "stream",
          "name": "stdout",
          "text": [
            "Before:  [[1, 2, 3], [4, 5, 6], [7, 8, 9]]\n",
            "Rotate right:  [[7, 4, 1], [8, 5, 2], [9, 6, 3]]\n",
            "Rotate left:  [[3, 6, 9], [2, 5, 8], [1, 4, 7]]\n"
          ]
        }
      ],
      "source": [
        "# Your solution here\n",
        "def rotate(matrix: list[list[float]], direction: str):\n",
        "    assert direction in (\"right\", \"left\"), \"Invalid direction\"\n",
        "    if direction == \"right\":\n",
        "        return [list(row) for row in zip(*matrix[::-1])]\n",
        "    else:\n",
        "              return [list(row) for row in zip(*matrix)][::-1]\n",
        "\n",
        "# транспонирую матрицу с помощью zip(*matrix)\n",
        "# переворачиваю порядок строк с помощью [::-1]\n",
        "\n",
        "\n",
        "\n",
        "input = [[1,2,3],[4,5,6],[7,8,9]]\n",
        "print(\"Before: \", input)\n",
        "print(\"Rotate right: \", rotate(input, \"right\"))\n",
        "print(\"Rotate left: \", rotate(input, \"left\"))"
      ]
    },
    {
      "cell_type": "markdown",
      "metadata": {
        "id": "_dY-PFlCoBGk"
      },
      "source": [
        "## Problem 3"
      ]
    },
    {
      "cell_type": "markdown",
      "metadata": {
        "id": "3CaIwcm0oBGk"
      },
      "source": [
        "Write a function that takes a string as input and returns a dictionary containing the number of occurrences of each character in the string.\n",
        "\n",
        "Example for the string 'hello, world!': {'h': 1, 'e': 1, 'l': 3, 'o': 2, ',': 1, ' ': 1, 'w': 1, 'r': 1, 'd': 1, '!': 1}."
      ]
    },
    {
      "cell_type": "code",
      "execution_count": 14,
      "metadata": {
        "id": "rlSbHusZoBGk",
        "colab": {
          "base_uri": "https://localhost:8080/"
        },
        "outputId": "d5b3dd16-a792-48b3-ad6e-0b9be173009b"
      },
      "outputs": [
        {
          "output_type": "stream",
          "name": "stdout",
          "text": [
            "{'h': 1, 'e': 1, 'l': 3, 'o': 2, ',': 1, ' ': 1, 'w': 1, 'r': 1, 'd': 1, '!': 1}\n",
            "{'1': 1, ' ': 27, '2': 2, '3': 3, '4': 4, '5': 5, '6': 6, '7': 7}\n"
          ]
        }
      ],
      "source": [
        "# Your solution here\n",
        "def char_count(s: str) -> dict: #возврящаемый тип есть словарь\n",
        "    counts = {}  # создаю пустой словарь\n",
        "    for char in s:\n",
        "        if char in counts:\n",
        "            counts[char] += 1\n",
        "        else:\n",
        "            counts[char] = 1\n",
        "    return counts\n",
        "\n",
        "# Пример использования:\n",
        "text = \"hello, world!\"\n",
        "print(char_count(text))\n",
        "text = \"1 2 2 3 3 3 4 4 4 4 5 5 5 5 5 6 6 6 6 6 6 7 7 7 7 7 7 7\"\n",
        "print(char_count(text))"
      ]
    },
    {
      "cell_type": "markdown",
      "metadata": {
        "id": "KBGJ7PeboBGk"
      },
      "source": [
        "## Problem 4"
      ]
    },
    {
      "cell_type": "markdown",
      "metadata": {
        "id": "XS4Seqa9oBGk"
      },
      "source": [
        "### Implementing a Library Management System\n",
        "\n",
        "#### Description\n",
        "\n",
        "You are required to design and implement a system for managing books and users in a library. The system should allow for the management of books (adding, deleting, searching by various criteria) and users (registration, deletion, searching), as well as tracking the history of interactions between them (issuing and returning books).\n",
        "\n",
        "#### Tasks\n",
        "\n",
        "1. **`Book` Class**:\n",
        "   - Attributes: title, author, year of publication, ISBN, number of copies.\n",
        "   - Methods: constructor, methods to get information about the book, method to change the number of copies (when issuing and returning books).\n",
        "\n",
        "2. **`User` Class**:\n",
        "   - Attributes: user name, library card number, list of borrowed books.\n",
        "   - Methods: constructor, methods for user registration, methods for adding and removing books from the borrowed list.\n",
        "\n",
        "3. **`Library` Class**:\n",
        "   - Attributes: list of books, list of users, transaction history (who, when, which book was borrowed and returned).\n",
        "   - Methods: constructor, methods for adding and deleting books and users, methods for issuing and returning books, searching for books and users by various criteria, method to display the transaction history.\n",
        "\n",
        "#### Assignment\n",
        "\n",
        "1. Implement the `Book`, `User`, and `Library` classes with the specified attributes and methods.\n",
        "2. Create several books and users, and add them to the library system.\n",
        "3. Implement scenarios for issuing books to users and their return.\n",
        "4. Display the transaction history to show how books were issued and returned.\n"
      ]
    },
    {
      "cell_type": "code",
      "execution_count": 20,
      "metadata": {
        "id": "IbqwtWWsoBGl",
        "colab": {
          "base_uri": "https://localhost:8080/"
        },
        "outputId": "5d56ccef-8215-410f-e2b0-cd14978e75a4"
      },
      "outputs": [
        {
          "output_type": "stream",
          "name": "stdout",
          "text": [
            "Alice borrowed '1984'\n",
            "Platon borrowed 'War and peace'\n",
            "Alice borrowed 'War and peace'\n",
            "Alice returned '1984'\n",
            "\n",
            "Search results for books with '1984' in the title:\n",
            "Title: 1984, Author: George Orwell, Year: 1949, ISBN: 1234567890, Copies: 5\n",
            "\n",
            "Search results for users with 'Alice' in the name:\n",
            "Alice\n",
            "\n",
            "Transaction History:\n",
            "Alice borrowed '1984'\n",
            "Platon borrowed 'War and peace'\n",
            "Alice borrowed 'War and peace'\n",
            "Alice returned '1984'\n"
          ]
        }
      ],
      "source": [
        "class Book:\n",
        "    def set_attributes(self, title, author, year, isbn, copies):\n",
        "        self.title = title\n",
        "        self.author = author\n",
        "        self.year = year\n",
        "        self.isbn = isbn\n",
        "        self.copies = copies\n",
        "\n",
        "    def get_info(self):\n",
        "        return f\"Title: {self.title}, Author: {self.author}, Year: {self.year}, ISBN: {self.isbn}, Copies: {self.copies}\"\n",
        "\n",
        "    def change_copies(self, count):\n",
        "        self.copies += count\n",
        "        if self.copies < 0:\n",
        "            self.copies = 0  # To prevent negative copies\n",
        "\n",
        "\n",
        "class User:\n",
        "    def set_attributes(self, username, card_number):\n",
        "        self.username = username\n",
        "        self.card_number = card_number\n",
        "        self.borrowed_books = []\n",
        "\n",
        "    def register(self):\n",
        "        return f\"User {self.username} (Card: {self.card_number}) registered.\"\n",
        "\n",
        "    def borrow_book(self, book):\n",
        "        if book.copies > 0:\n",
        "            self.borrowed_books.append(book)\n",
        "            book.change_copies(-1)\n",
        "            return f\"{self.username} borrowed '{book.title}'\"\n",
        "        else:\n",
        "            return f\"Sorry, '{book.title}' is not available.\"\n",
        "\n",
        "    def return_book(self, book):\n",
        "        if book in self.borrowed_books:\n",
        "            self.borrowed_books.remove(book)\n",
        "            book.change_copies(1)\n",
        "            return f\"{self.username} returned '{book.title}'\"\n",
        "        else:\n",
        "            return f\"{self.username} did not borrow '{book.title}'\"\n",
        "\n",
        "\n",
        "class Library:\n",
        "    def set_attributes(self):\n",
        "        self.books = []\n",
        "        self.users = []\n",
        "        self.transaction_history = []\n",
        "\n",
        "    def add_book(self, book):\n",
        "        self.books.append(book)\n",
        "\n",
        "    def remove_book(self, book):\n",
        "        if book in self.books:\n",
        "            self.books.remove(book)\n",
        "        else:\n",
        "            return \"Book not found in library.\"\n",
        "\n",
        "    def add_user(self, user):\n",
        "        self.users.append(user)\n",
        "\n",
        "    def remove_user(self, user):\n",
        "        if user in self.users:\n",
        "            self.users.remove(user)\n",
        "        else:\n",
        "            return \"User not found.\"\n",
        "\n",
        "    def search_books_by_title(self, title):\n",
        "        return [book for book in self.books if title.lower() in book.title.lower()]\n",
        "\n",
        "    def search_users_by_name(self, name):\n",
        "        return [user for user in self.users if name.lower() in user.username.lower()]\n",
        "\n",
        "    def issue_book(self, user, book):\n",
        "        if book in self.books:\n",
        "            result = user.borrow_book(book)\n",
        "            self.transaction_history.append(f\"{user.username} borrowed '{book.title}'\")\n",
        "            return result\n",
        "        return \"Book not found in library.\"\n",
        "\n",
        "    def return_book(self, user, book):\n",
        "        if book in self.books:\n",
        "            result = user.return_book(book)\n",
        "            self.transaction_history.append(f\"{user.username} returned '{book.title}'\")\n",
        "            return result\n",
        "        return \"Book not found in library.\"\n",
        "\n",
        "    def display_transaction_history(self):\n",
        "        for transaction in self.transaction_history:\n",
        "            print(transaction)\n",
        "\n",
        "\n",
        "# testing the class\n",
        "\n",
        "library = Library()\n",
        "library.set_attributes()\n",
        "\n",
        "book1 = Book()\n",
        "book1.set_attributes(\"1984\", \"George Orwell\", 1949, \"1234567890\", 5)\n",
        "\n",
        "book2 = Book()\n",
        "book2.set_attributes(\"War and peace\", \"Lev Tolstoy\", 1869, \"0987654321\", 3)\n",
        "\n",
        "book3 = Book()\n",
        "book3.set_attributes(\"Logics\", \"Georgyi Chelpanov\", 1917, \"1122334455\", 2)\n",
        "\n",
        "library.add_book(book1)\n",
        "library.add_book(book2)\n",
        "library.add_book(book3)\n",
        "\n",
        "user1 = User()\n",
        "user1.set_attributes(\"Alice\", \"001\")\n",
        "\n",
        "user2 = User()\n",
        "user2.set_attributes(\"Platon\", \"002\")\n",
        "\n",
        "library.add_user(user1)\n",
        "library.add_user(user2)\n",
        "\n",
        "print(library.issue_book(user1, book1))  # Alice borrows '1984'\n",
        "print(library.issue_book(user2, book2))  # Platon borrows 'War and peace'\n",
        "print(library.issue_book(user1, book2))  # Alice tries to borrow 'War and peace'\n",
        "\n",
        "print(library.return_book(user1, book1))  # Alice returns '1984'\n",
        "\n",
        "print(\"\\nSearch results for books with '1984' in the title:\")\n",
        "for book in library.search_books_by_title(\"1984\"):\n",
        "    print(book.get_info())\n",
        "\n",
        "print(\"\\nSearch results for users with 'Alice' in the name:\")\n",
        "for user in library.search_users_by_name(\"Alice\"):\n",
        "    print(user.username)\n",
        "\n",
        "print(\"\\nTransaction History:\")\n",
        "library.display_transaction_history()\n"
      ]
    },
    {
      "cell_type": "markdown",
      "metadata": {
        "id": "0c8zRbSIoBGl"
      },
      "source": [
        "## Problem 5*"
      ]
    },
    {
      "cell_type": "markdown",
      "metadata": {
        "id": "8ltdzRmOoBGl"
      },
      "source": [
        "Explain why list `b` changes after the execution of the following code:\n",
        "\n",
        "```python\n",
        "a = [1, 2, 3]\n",
        "b = a\n",
        "a[0] = 4\n",
        "print(b)\n",
        "```"
      ]
    },
    {
      "cell_type": "code",
      "source": [
        "a = [1, 2, 3]\n",
        "b = a\n",
        "a[0] = 4\n",
        "print(a)\n",
        "print(b)"
      ],
      "metadata": {
        "colab": {
          "base_uri": "https://localhost:8080/"
        },
        "id": "TOUYpLDsMMXF",
        "outputId": "82c8ab96-2897-417a-9f68-384b20126c3f"
      },
      "execution_count": 16,
      "outputs": [
        {
          "output_type": "stream",
          "name": "stdout",
          "text": [
            "[4, 2, 3]\n",
            "[4, 2, 3]\n"
          ]
        }
      ]
    },
    {
      "cell_type": "markdown",
      "metadata": {
        "id": "RxgnUfFPoBGl"
      },
      "source": [
        "> Write your answer in markdown cell after:"
      ]
    },
    {
      "cell_type": "markdown",
      "metadata": {
        "id": "Mb-amOX5oBGl"
      },
      "source": [
        "It happens because a and b refer to the same object in memory. We didnt made a \"real\" copy(i mean by using explicit copy we can get copy that wont be changed. so they will be independent) in our case we just gave another name to the array."
      ]
    },
    {
      "cell_type": "markdown",
      "metadata": {
        "id": "TmXLkc_foBGl"
      },
      "source": [
        "## Problem 6*"
      ]
    },
    {
      "cell_type": "markdown",
      "metadata": {
        "id": "Gn0ibiVCoBGl"
      },
      "source": [
        "Let\n",
        "$$A = \\sum_{i=1}^{10000} \\frac{1}{i^2},\\quad B=\\sum_{i=10000}^{1} \\frac{1}{i^2}.$$\n",
        "Calculate the values of $A$ and $B$ and compare them. What do you observe? Explain why this happens. What is the best way to calculate the value of $\\sum\\limits_{i=1}^{10000} \\dfrac{1}{i^2}$?"
      ]
    },
    {
      "cell_type": "code",
      "execution_count": 18,
      "metadata": {
        "id": "3q93uGqFoBGl",
        "colab": {
          "base_uri": "https://localhost:8080/"
        },
        "outputId": "d8056edc-85ee-42a4-93e7-fc01f02c93e1"
      },
      "outputs": [
        {
          "output_type": "stream",
          "name": "stdout",
          "text": [
            "1.6448340718480652\n",
            "1.6448340718480596\n"
          ]
        }
      ],
      "source": [
        "# Your solution here\n",
        "A = sum([1/i**2 for i in range(1, 10001)])\n",
        "B = sum([1/i**2 for i in range(10000, 0, -1)])\n",
        "\n",
        "print(A)\n",
        "print(B)"
      ]
    },
    {
      "cell_type": "markdown",
      "source": [
        "the main point is that floating-point numbers have limited precision. the order of summation can impact the accumulation of rounding errors in floating-point arithmetic. this is because smaller numbers in the series can be lost or ignored in the summation process due to the way floating-point numbers are stored.\n",
        "that is why ansver B is more precise. because in the beggining we sum \"small\" numbers and don't let them get lost"
      ],
      "metadata": {
        "id": "BugIlbbwPhLI"
      }
    }
  ],
  "metadata": {
    "colab": {
      "provenance": [],
      "include_colab_link": true
    },
    "kernelspec": {
      "display_name": "Python 3",
      "language": "python",
      "name": "python3"
    },
    "language_info": {
      "codemirror_mode": {
        "name": "ipython",
        "version": 3
      },
      "file_extension": ".py",
      "mimetype": "text/x-python",
      "name": "python",
      "nbconvert_exporter": "python",
      "pygments_lexer": "ipython3",
      "version": "3.10.6"
    }
  },
  "nbformat": 4,
  "nbformat_minor": 0
}