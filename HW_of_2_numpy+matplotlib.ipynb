{
  "cells": [
    {
      "cell_type": "markdown",
      "metadata": {
        "id": "view-in-github",
        "colab_type": "text"
      },
      "source": [
        "<a href=\"https://colab.research.google.com/github/Plashka320/Stat_prack_HW_VyuzhaninPD_2025/blob/main/HW_of_2_numpy%2Bmatplotlib.ipynb\" target=\"_parent\"><img src=\"https://colab.research.google.com/assets/colab-badge.svg\" alt=\"Open In Colab\"/></a>"
      ]
    },
    {
      "cell_type": "markdown",
      "metadata": {
        "id": "F8DJBhxmpnJj"
      },
      "source": [
        "## Problem 1"
      ]
    },
    {
      "cell_type": "markdown",
      "metadata": {
        "id": "Xn-g5jRKpnJj"
      },
      "source": [
        "Let $f(x) = 2\\sin x - \\cos{2x}$. Write a function `beauty_derivative_plot` that takes a point $x$ and plots the function $f(x)$ and its derivative $f'(x)$ in the range $x \\in [-2\\pi, 2\\pi]$. The function should also plot the tangent line to the function at the point $x$.\n",
        "\n",
        "Example of output for $x = -3, -2, 1.7$:\n",
        "\n",
        "```python\n",
        "beauty_derivative_plot(-3)\n",
        "```\n",
        "<img src=\"https://github.com/V-Kisielius/StatPrak24/blob/main/imgs/tangent_line_-3.0.png?raw=true\" width=\"600\"/>\n",
        "\n",
        "```python\n",
        "beauty_derivative_plot(-2)\n",
        "```\n",
        "<img src=\"https://github.com/V-Kisielius/StatPrak24/blob/main/imgs/tangent_line_-2.0.png?raw=true\" width=\"600\"/>\n",
        "\n",
        "```python\n",
        "beauty_derivative_plot(1.7)\n",
        "```\n",
        "<img src=\"https://github.com/V-Kisielius/StatPrak24/blob/main/imgs/tangent_line_1.7.png?raw=true\" width=\"600\"/>"
      ]
    },
    {
      "cell_type": "code",
      "source": [
        "def beauty_derivative_plot(x):\n",
        "    pass # Your code here"
      ],
      "metadata": {
        "id": "rCwbbStEr9Go"
      },
      "execution_count": null,
      "outputs": []
    },
    {
      "cell_type": "markdown",
      "metadata": {
        "id": "trnrVKJjpnJj"
      },
      "source": [
        "## Problem 2"
      ]
    },
    {
      "cell_type": "markdown",
      "metadata": {
        "id": "BL4h-aajpnJj"
      },
      "source": [
        "The data in [populations.txt](http://www.scipy-lectures.org/_downloads/populations.txt) describes the populations of hares, lynxes and carrots in northern Canada during 20 years. Get the data with\n",
        "```python\n",
        "np.loadtxt('http://www.scipy-lectures.org/_downloads/populations.txt')\n",
        "```\n",
        "and do the following exercises **without for-loops**."
      ]
    },
    {
      "cell_type": "markdown",
      "metadata": {
        "id": "PYog_WwZpnJj"
      },
      "source": [
        "- Plot the population size of each species for each year on a single graph. Add legend and axis labels to the plot."
      ]
    },
    {
      "cell_type": "code",
      "execution_count": null,
      "metadata": {
        "id": "WpZGWoGVpnJk"
      },
      "outputs": [],
      "source": []
    },
    {
      "cell_type": "markdown",
      "metadata": {
        "id": "jcsu6oXbpnJk"
      },
      "source": [
        "- Find which year each species had the largest population. Mark these years in the plot of populations."
      ]
    },
    {
      "cell_type": "code",
      "execution_count": null,
      "metadata": {
        "id": "dePiC9w8pnJk"
      },
      "outputs": [],
      "source": []
    },
    {
      "cell_type": "markdown",
      "metadata": {
        "id": "jEi11lBHpnJk"
      },
      "source": [
        "- Assuming total population of hares and lynxes is 100%, plot stacked bar graph showing ratio of each specis for each year in the period."
      ]
    },
    {
      "cell_type": "code",
      "execution_count": null,
      "metadata": {
        "id": "ZwfUH1QUpnJk"
      },
      "outputs": [],
      "source": []
    },
    {
      "cell_type": "markdown",
      "metadata": {
        "id": "Bt7-GUXVpnJk"
      },
      "source": [
        "- Find the mean and std of the populations of each species. Plot the historgam of population for each species and show mean values with vertical line. Show each histogram in a separate plot. Arrange 3 plots in a row."
      ]
    },
    {
      "cell_type": "code",
      "execution_count": null,
      "metadata": {
        "id": "MZ6tQKArpnJk"
      },
      "outputs": [],
      "source": []
    },
    {
      "cell_type": "markdown",
      "metadata": {
        "id": "lsh-4ovQpnJk"
      },
      "source": [
        "- Find which species (hares or lynxes) has the largest population for each year. Print the result as [H, H, L, H, ...]. Plot a pie chart showing the ratio of \"H\" and \"L\" values."
      ]
    },
    {
      "cell_type": "code",
      "execution_count": null,
      "metadata": {
        "id": "vzyudKMhpnJk"
      },
      "outputs": [],
      "source": []
    },
    {
      "cell_type": "markdown",
      "metadata": {
        "id": "nkPnDj53pnJk"
      },
      "source": [
        "- Plot the change in the hare population and in the lynx population for each year. Find the correlation coefficient between the both time series."
      ]
    },
    {
      "cell_type": "code",
      "execution_count": null,
      "metadata": {
        "id": "e5oJjOhwpnJk"
      },
      "outputs": [],
      "source": []
    },
    {
      "cell_type": "markdown",
      "metadata": {
        "id": "Ptsgsk7UpnJk"
      },
      "source": [
        "- Using a scatter plot, show the population of hares vs lynxes by year (each point corresponds to a particular year, and the point coordinates correspond to the population of the two species in that year)."
      ]
    },
    {
      "cell_type": "code",
      "execution_count": null,
      "metadata": {
        "id": "EsHIKct_pnJl"
      },
      "outputs": [],
      "source": []
    },
    {
      "cell_type": "markdown",
      "metadata": {
        "id": "Hg9WOiObpnJl"
      },
      "source": [
        "- Assume the population of hares in 1920 is unknown. Suggest a way to estimate this value. Compare an estimated value\n",
        "with the true value and print a ratio of the error to the true value."
      ]
    },
    {
      "cell_type": "code",
      "execution_count": null,
      "metadata": {
        "id": "UKI3Dr2PpnJl"
      },
      "outputs": [],
      "source": []
    }
  ],
  "metadata": {
    "kernelspec": {
      "display_name": "Python 3",
      "language": "python",
      "name": "python3"
    },
    "language_info": {
      "codemirror_mode": {
        "name": "ipython",
        "version": 3
      },
      "file_extension": ".py",
      "mimetype": "text/x-python",
      "name": "python",
      "nbconvert_exporter": "python",
      "pygments_lexer": "ipython3",
      "version": "3.10.6"
    },
    "colab": {
      "provenance": [],
      "include_colab_link": true
    }
  },
  "nbformat": 4,
  "nbformat_minor": 0
}